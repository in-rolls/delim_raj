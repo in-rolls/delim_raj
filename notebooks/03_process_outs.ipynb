{
 "cells": [
  {
   "cell_type": "markdown",
   "id": "422f56a9-ee1b-4a12-9da3-d4da2f95c98b",
   "metadata": {},
   "source": [
    "### Process Out"
   ]
  },
  {
   "cell_type": "code",
   "execution_count": 1,
   "id": "946ec3d8-eacc-49b9-a08d-597558f4c058",
   "metadata": {},
   "outputs": [],
   "source": [
    "import pandas as pd"
   ]
  },
  {
   "cell_type": "code",
   "execution_count": 2,
   "id": "1c098337-13f4-41fa-9430-12baee256da5",
   "metadata": {},
   "outputs": [],
   "source": [
    "df = pd.read_csv(\"gp_delim_orig.csv\",\n",
    "            usecols = [\"original_filename\", \"page\", \"col1\", \"col2\", \"col3\", \"col4\", \"col5\"])\n",
    "\n",
    "new_column_names = {\n",
    "    'col1': 'sr_no',\n",
    "    'col2': 'current_gp_name',\n",
    "    'col3': 'old_gp_villages',\n",
    "    'col4': 'new_or_reconstituted_gp_name',\n",
    "    'col5': 'new_gp_villages'\n",
    "}\n",
    "\n",
    "df.rename(columns=new_column_names, inplace = True)"
   ]
  },
  {
   "cell_type": "code",
   "execution_count": 3,
   "id": "33277369-a9ed-41e3-b9df-1edaa1043a0d",
   "metadata": {},
   "outputs": [],
   "source": [
    "def split_column(df, col_name):\n",
    "    new_rows = []\n",
    "\n",
    "    # Iterate over each row in the original DataFrame\n",
    "    for index, row in df.iterrows():\n",
    "        # Check if the column is not NaN (i.e., a string)\n",
    "        if isinstance(row[col_name], str):\n",
    "            # Split the cell in the column by newline character and get the list of items\n",
    "            items = row[col_name].split('\\n')\n",
    "\n",
    "            # Iterate over the items, starting from the second item\n",
    "            for i in range(len(items)):\n",
    "                new_row = row.copy()  # Copy the original row\n",
    "                new_row[col_name] = items[i].split('. ', 1)[-1].strip()  # Update column with the new item (removing bullet point)\n",
    "                new_rows.append(new_row)\n",
    "\n",
    "    # Create a new DataFrame from the list of new rows\n",
    "    new_df = pd.DataFrame(new_rows, columns=df.columns)\n",
    "    return new_df"
   ]
  },
  {
   "cell_type": "code",
   "execution_count": 4,
   "id": "7090cfa4-69b1-449f-97f8-b4311525caa8",
   "metadata": {},
   "outputs": [],
   "source": [
    "# Apply the function to col3\n",
    "new_df_col3 = split_column(df, 'old_gp_villages')"
   ]
  },
  {
   "cell_type": "markdown",
   "id": "8dc0363b-4535-4f11-9c9a-e6dca35dfdbd",
   "metadata": {},
   "source": [
    "## Clean up"
   ]
  },
  {
   "cell_type": "code",
   "execution_count": 5,
   "id": "be84db89-0347-4e2a-9a31-3156c6ca897f",
   "metadata": {},
   "outputs": [],
   "source": [
    "new_df_col3.drop_duplicates(inplace = True)"
   ]
  },
  {
   "cell_type": "code",
   "execution_count": 6,
   "id": "77aeea8b-746a-4b5f-a311-0953dede871c",
   "metadata": {},
   "outputs": [],
   "source": [
    "new_df_col3['sr_no'] = new_df_col3['sr_no'].str.replace('क्र.सं.', '')\n",
    "new_df_col3['old_gp_villages'] = new_df_col3['old_gp_villages'].str.replace('वर्तमान ग्रा ० प ० में', '')\n",
    "new_df_col3['new_gp_villages'] = new_df_col3['new_gp_villages'].str.replace('नवसृजित ग्रा 0 प 0 में', '')\n",
    "new_df_col3['current_gp_name'] = new_df_col3['current_gp_name'].str.replace('वर्तमान\\nग्रा 0 प 0 का\\nनाम', '')\n",
    "new_df_col3['new_or_reconstituted_gp_name'] = new_df_col3['new_or_reconstituted_gp_name'].str.replace('पुनर्गठित /\\nपुनर्सीमांकित / नवसृजित\\nग्रा ० प ० का नाम', '')\n",
    "\n",
    "new_df_col3.to_csv(\"2019_delim_processed.csv\", index = False)"
   ]
  }
 ],
 "metadata": {
  "kernelspec": {
   "display_name": "Python 3 (ipykernel)",
   "language": "python",
   "name": "python3"
  },
  "language_info": {
   "codemirror_mode": {
    "name": "ipython",
    "version": 3
   },
   "file_extension": ".py",
   "mimetype": "text/x-python",
   "name": "python",
   "nbconvert_exporter": "python",
   "pygments_lexer": "ipython3",
   "version": "3.8.10"
  }
 },
 "nbformat": 4,
 "nbformat_minor": 5
}
