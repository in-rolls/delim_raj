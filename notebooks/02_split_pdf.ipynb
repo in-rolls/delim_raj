{
 "cells": [
  {
   "cell_type": "markdown",
   "id": "3a7dcd1d-498e-424e-a55b-d0e9af86dec8",
   "metadata": {},
   "source": [
    "### Split into 3 pages for Sync Processing"
   ]
  },
  {
   "cell_type": "code",
   "execution_count": 21,
   "id": "12b01bb6-7d2d-4380-ba5a-3b027b918e98",
   "metadata": {},
   "outputs": [
    {
     "name": "stdout",
     "output_type": "stream",
     "text": [
      "PDF split and saved into chunks.\n"
     ]
    }
   ],
   "source": [
    "from PyPDF2 import PdfFileReader, PdfFileWriter\n",
    "import os\n",
    "\n",
    "# Path to the input PDF file\n",
    "input_pdf_path = \"GP_Delimitation_2019_Final.pdf\"  # Replace with your PDF file path\n",
    "\n",
    "# Open the PDF file\n",
    "with open(input_pdf_path, \"rb\") as pdf_file:\n",
    "    pdf_reader = PdfFileReader(pdf_file)\n",
    "    num_pages = pdf_reader.numPages\n",
    "\n",
    "    # Split into chunks of three pages each\n",
    "    chunk_size = 3\n",
    "    for start in range(0, num_pages, chunk_size):\n",
    "        end = min(start + chunk_size, num_pages)\n",
    "        chunk_pdf_writer = PdfFileWriter()\n",
    "\n",
    "        for page_num in range(start, end):\n",
    "            page = pdf_reader.getPage(page_num)\n",
    "            chunk_pdf_writer.addPage(page)\n",
    "\n",
    "        # Save the chunk as a new PDF\n",
    "        output_pdf_path = os.path.join(\"splits\", f\"chunk_{start + 1}-{end}.pdf\")\n",
    "        with open(output_pdf_path, \"wb\") as output_pdf_file:\n",
    "            chunk_pdf_writer.write(output_pdf_file)\n",
    "\n",
    "print(\"PDF split and saved into chunks.\")"
   ]
  },
  {
   "cell_type": "code",
   "execution_count": null,
   "id": "5b8ab1ae-5463-4ed0-810f-b66b6a438199",
   "metadata": {},
   "outputs": [],
   "source": []
  }
 ],
 "metadata": {
  "kernelspec": {
   "display_name": "Python 3 (ipykernel)",
   "language": "python",
   "name": "python3"
  },
  "language_info": {
   "codemirror_mode": {
    "name": "ipython",
    "version": 3
   },
   "file_extension": ".py",
   "mimetype": "text/x-python",
   "name": "python",
   "nbconvert_exporter": "python",
   "pygments_lexer": "ipython3",
   "version": "3.8.10"
  }
 },
 "nbformat": 4,
 "nbformat_minor": 5
}
